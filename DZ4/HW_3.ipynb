{
 "cells": [
  {
   "cell_type": "code",
   "execution_count": 108,
   "metadata": {},
   "outputs": [],
   "source": [
    "documents = [\n",
    " {'type': 'passport', 'number': '2207 876234', 'name': 'Василий Гупкин'},\n",
    " {'type': 'invoice', 'number': '11-2', 'name': 'Геннадий Покемонов'},\n",
    " {'type': 'insurance', 'number': '10006', 'name': 'Аристарх Павлов'}\n",
    "]"
   ]
  },
  {
   "cell_type": "code",
   "execution_count": 109,
   "metadata": {},
   "outputs": [],
   "source": [
    "directories = {\n",
    " '1': ['2207 876234', '11-2'],\n",
    " '2': ['10006'],\n",
    " '3': []\n",
    "}"
   ]
  },
  {
   "cell_type": "code",
   "execution_count": 110,
   "metadata": {},
   "outputs": [],
   "source": [
    "def document_in_documents(input_number):\n",
    "    for document in documents:\n",
    "        if document['number'] == input_number:\n",
    "            return document['name']\n",
    "    return None"
   ]
  },
  {
   "cell_type": "code",
   "execution_count": 111,
   "metadata": {},
   "outputs": [],
   "source": [
    "def document_in_directories(input_number):\n",
    "    for directory in directories:\n",
    "        if directories[directory].count(input_number) != 0:\n",
    "            return directory\n",
    "    return None"
   ]
  },
  {
   "cell_type": "code",
   "execution_count": 112,
   "metadata": {},
   "outputs": [],
   "source": [
    "def directories_add(directories_number):\n",
    "    for directory in directories:\n",
    "        if directory == directories_number:          \n",
    "            return True, list(directories.keys())\n",
    "    directories[directories_number] = []\n",
    "    return None, list(directories.keys())"
   ]
  },
  {
   "cell_type": "code",
   "execution_count": 113,
   "metadata": {},
   "outputs": [],
   "source": [
    "def directories_del(directories_number): \n",
    "    for directory in directories:\n",
    "        if directory == directories_number:\n",
    "            if len(directories[directory]) == 0:\n",
    "                del(directories[directory])\n",
    "                return True, list(directories.keys())\n",
    "            else:\n",
    "                return False, list(directories.keys())\n",
    "    return None, list(directories.keys())"
   ]
  },
  {
   "cell_type": "code",
   "execution_count": 114,
   "metadata": {},
   "outputs": [],
   "source": [
    "def document_list():\n",
    "    print('Текущий список документов:')\n",
    "    for document in documents:\n",
    "        input_number = document['number']\n",
    "        document_type = document['type']\n",
    "        document_name = document['name']\n",
    "        print(f'№: {input_number}, тип: {document_type}, владелец: {document_name}, полка хранения: {document_in_directories(input_number)}')"
   ]
  },
  {
   "cell_type": "code",
   "execution_count": 115,
   "metadata": {},
   "outputs": [
    {
     "name": "stdout",
     "output_type": "stream",
     "text": [
      "Введите команду: p\n",
      "Введите номер документа: 10006\n",
      "Владелец документа: Аристарх Павлов\n",
      "Введите команду: 12345\n",
      "Введите или p или s или l или ads или ds или q\n",
      "Введите команду: p\n",
      "Введите номер документа: 12345\n",
      "Документ не найден в базе\n",
      "Введите команду: s\n",
      "Введите номер документа: 11-2\n",
      "Документ хранится на полке: 1\n",
      "Введите команду: s\n",
      "Введите номер документа: 16\n",
      "Документ не найден в базе\n",
      "Введите команду: s\n",
      "Введите номер документа: 10006\n",
      "Документ хранится на полке: 2\n",
      "Введите команду: l\n",
      "Текущий список документов:\n",
      "№: 2207 876234, тип: passport, владелец: Василий Гупкин, полка хранения: 1\n",
      "№: 11-2, тип: invoice, владелец: Геннадий Покемонов, полка хранения: 1\n",
      "№: 10006, тип: insurance, владелец: Аристарх Павлов, полка хранения: 2\n",
      "Введите команду: ads\n",
      "Введите номер полки: 2\n",
      "Такая полка уже существует. Текущий перечень полок:  1, 2, 3\n",
      "Введите команду: ads\n",
      "Введите номер полки: 3\n",
      "Такая полка уже существует. Текущий перечень полок:  1, 2, 3\n",
      "Введите команду: ads\n",
      "Введите номер полки: 4\n",
      "Полка добавлена. Текущий перечень полок:  1, 2, 3, 4\n",
      "Введите команду: ads\n",
      "Введите номер полки: 4\n",
      "Такая полка уже существует. Текущий перечень полок:  1, 2, 3, 4\n",
      "Введите команду: ds\n",
      "Введите номер полки: 1\n",
      "На полке есть документы. Удалите их перед удалением полки. Текущий перечень полок:  1, 2, 3, 4\n",
      "Введите команду: ds\n",
      "Введите номер полки: 3\n",
      "Полка удалена. Текущий перечень полок:  1, 2, 4\n",
      "Введите команду: ds\n",
      "Введите номер полки: 1\n",
      "На полке есть документы. Удалите их перед удалением полки. Текущий перечень полок:  1, 2, 4\n",
      "Введите команду: q\n",
      "Введите или p или s или l или ads или ds или q\n",
      "Программа завершена.\n"
     ]
    }
   ],
   "source": [
    "command = ''\n",
    "while command != 'q':\n",
    "    command = input('Введите команду: ')\n",
    "    if command == 'p':\n",
    "        result = document_in_documents(input('Введите номер документа: '))\n",
    "        if result != None:\n",
    "            print(f'Владелец документа: {result}')\n",
    "        else:\n",
    "            print('Документ не найден в базе')\n",
    "    elif command == 's':\n",
    "        result = document_in_directories(input('Введите номер документа: '))\n",
    "        if result != None:\n",
    "            print(f'Документ хранится на полке: {result}')\n",
    "        else:\n",
    "            print('Документ не найден в базе')\n",
    "    elif command == 'l':\n",
    "        document_list()\n",
    "    elif command == 'ads':\n",
    "        result, directories_list = directories_add(input('Введите номер полки: '))\n",
    "        if result != None:\n",
    "            print('Такая полка уже существует. Текущий перечень полок: ', ', '.join(directories_list))\n",
    "        else:\n",
    "            print('Полка добавлена. Текущий перечень полок: ', ', '.join(directories_list))\n",
    "    elif command == 'ds':    \n",
    "        result, directories_list = directories_del(input('Введите номер полки: '))\n",
    "        if result == True:\n",
    "            print('Полка удалена. Текущий перечень полок: ', ', '.join(directories_list))\n",
    "        elif result == False:\n",
    "            print('На полке есть документы. Удалите их перед удалением полки. Текущий перечень полок: ', ', '.join(directories_list))\n",
    "        else:\n",
    "            print('Такая полка не существует. Текущий перечень полок: ', ', '.join(directories_list))\n",
    "    else:\n",
    "        print('Введите или p или s или l или ads или ds или q')\n",
    "print('Программа завершена.')"
   ]
  },
  {
   "cell_type": "code",
   "execution_count": null,
   "metadata": {},
   "outputs": [],
   "source": []
  },
  {
   "cell_type": "code",
   "execution_count": null,
   "metadata": {},
   "outputs": [],
   "source": []
  }
 ],
 "metadata": {
  "kernelspec": {
   "display_name": "Python 3",
   "language": "python",
   "name": "python3"
  },
  "language_info": {
   "codemirror_mode": {
    "name": "ipython",
    "version": 3
   },
   "file_extension": ".py",
   "mimetype": "text/x-python",
   "name": "python",
   "nbconvert_exporter": "python",
   "pygments_lexer": "ipython3",
   "version": "3.8.5"
  }
 },
 "nbformat": 4,
 "nbformat_minor": 4
}
